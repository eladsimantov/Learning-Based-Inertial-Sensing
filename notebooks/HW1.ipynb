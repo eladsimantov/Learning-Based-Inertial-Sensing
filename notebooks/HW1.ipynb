{
 "cells": [
  {
   "cell_type": "markdown",
   "metadata": {},
   "source": [
    "# HW 1\n",
    "The homework assignments is on calibrating the Inertial sensor in our cell phones via the 6-position method. The first part will be to use recorded data to calibrate the accelerometer, the second part will be to calibrate the gyroscopes and the third part will be to analyze recorded data of \"shaking the smartphone\". Finally, we will compare different phones with one another and with our expectations from their specifications. \n"
   ]
  },
  {
   "cell_type": "code",
   "execution_count": 1,
   "metadata": {},
   "outputs": [],
   "source": [
    "import sys\n",
    "import os\n",
    "import numpy as np\n",
    "import pandas as pd\n",
    "\n",
    "sys.path.append('../src')\n",
    "from ins import Accelerometer\n",
    "from ins import Gyroscope\n",
    "sys.path.append('../notebooks')\n",
    "np.set_printoptions(precision=4, suppress=True)\n",
    "\n",
    "# Load the data\n",
    "path_accel_300sec_face_up = os.path.join(\"..\", \"data\", \"Acceleration_300sec_FaceUp\")\n",
    "path_accel_300sec_face_down = os.path.join(\"..\", \"data\", \"Acceleration_300sec_FaceDown\")\n",
    "path_accel_300sec_side_positive = os.path.join(\"..\", \"data\", \"Acceleration_300sec_SidePositive\")\n",
    "path_accel_300sec_side_negative = os.path.join(\"..\", \"data\", \"Acceleration_300sec_SideNegative\")\n",
    "path_accel_300sec_vertical_front = os.path.join(\"..\", \"data\", \"Acceleration_300sec_VerticalFront\")\n",
    "path_accel_300sec_vertical_back = os.path.join(\"..\", \"data\", \"Acceleration_300sec_VerticalBack\")\n",
    "\n",
    "accel_300sec_face_up = pd.read_csv(os.path.join(path_accel_300sec_face_up, \"Raw Data.csv\")) # This had a delimiter of \",\"\n",
    "accel_300sec_face_down = pd.read_csv(os.path.join(path_accel_300sec_face_down, \"Raw Data.csv\"), sep=\"\\t\", engine=\"python\")\n",
    "accel_300sec_side_positive = pd.read_csv(os.path.join(path_accel_300sec_side_positive, \"Raw Data.csv\"), sep=\"\\t\", engine=\"python\")\n",
    "accel_300sec_side_negative = pd.read_csv(os.path.join(path_accel_300sec_side_negative, \"Raw Data.csv\"), sep=\"\\t\", engine=\"python\")\n",
    "accel_300sec_vertical_front = pd.read_csv(os.path.join(path_accel_300sec_vertical_front, \"Raw Data.csv\"), sep=\"\\t\", engine=\"python\")\n",
    "accel_300sec_vertical_back = pd.read_csv(os.path.join(path_accel_300sec_vertical_back, \"Raw Data.csv\"), sep=\"\\t\", engine=\"python\")"
   ]
  },
  {
   "cell_type": "code",
   "execution_count": 2,
   "metadata": {},
   "outputs": [],
   "source": [
    "def remove_rows_by_time(df, start_time, end_time):\n",
    "    return df[(df[\"Time (s)\"] >= start_time) & (df[\"Time (s)\"] <= end_time)]\n",
    "\n",
    "# Select the first 5 seconds of data\n",
    "fz_up_5sec = remove_rows_by_time(accel_300sec_face_up, 0, 5)[[\"Acceleration x (m/s^2)\", \"Acceleration y (m/s^2)\", \"Acceleration z (m/s^2)\"]].mean().to_numpy().reshape([3,1])\n",
    "fz_down_5sec = remove_rows_by_time(accel_300sec_face_down, 0, 5)[[\"Acceleration x (m/s^2)\", \"Acceleration y (m/s^2)\", \"Acceleration z (m/s^2)\"]].mean().to_numpy().reshape([3,1])\n",
    "fx_up_5sec = remove_rows_by_time(accel_300sec_side_positive, 0, 5)[[\"Acceleration x (m/s^2)\", \"Acceleration y (m/s^2)\", \"Acceleration z (m/s^2)\"]].mean().to_numpy().reshape([3,1])\n",
    "fx_down_5sec = remove_rows_by_time(accel_300sec_side_negative, 0, 5)[[\"Acceleration x (m/s^2)\", \"Acceleration y (m/s^2)\", \"Acceleration z (m/s^2)\"]].mean().to_numpy().reshape([3,1])\n",
    "fy_up_5sec = remove_rows_by_time(accel_300sec_vertical_front, 0, 5)[[\"Acceleration x (m/s^2)\", \"Acceleration y (m/s^2)\", \"Acceleration z (m/s^2)\"]].mean().to_numpy().reshape([3,1])\n",
    "fy_down_5sec = remove_rows_by_time(accel_300sec_vertical_back, 0, 5)[[\"Acceleration x (m/s^2)\", \"Acceleration y (m/s^2)\", \"Acceleration z (m/s^2)\"]].mean().to_numpy().reshape([3,1])\n",
    "\n",
    "# Select the first 60 seconds of data\n",
    "fz_up_60sec = remove_rows_by_time(accel_300sec_face_up, 0, 60)[[\"Acceleration x (m/s^2)\", \"Acceleration y (m/s^2)\", \"Acceleration z (m/s^2)\"]].mean().to_numpy().reshape([3,1])\n",
    "fz_down_60sec = remove_rows_by_time(accel_300sec_face_down, 0, 60)[[\"Acceleration x (m/s^2)\", \"Acceleration y (m/s^2)\", \"Acceleration z (m/s^2)\"]].mean().to_numpy().reshape([3,1])\n",
    "fx_up_60sec = remove_rows_by_time(accel_300sec_side_positive, 0, 60)[[\"Acceleration x (m/s^2)\", \"Acceleration y (m/s^2)\", \"Acceleration z (m/s^2)\"]].mean().to_numpy().reshape([3,1])\n",
    "fx_down_60sec = remove_rows_by_time(accel_300sec_side_negative, 0, 60)[[\"Acceleration x (m/s^2)\", \"Acceleration y (m/s^2)\", \"Acceleration z (m/s^2)\"]].mean().to_numpy().reshape([3,1])\n",
    "fy_up_60sec = remove_rows_by_time(accel_300sec_vertical_front, 0, 60)[[\"Acceleration x (m/s^2)\", \"Acceleration y (m/s^2)\", \"Acceleration z (m/s^2)\"]].mean().to_numpy().reshape([3,1])\n",
    "fy_down_60sec = remove_rows_by_time(accel_300sec_vertical_back, 0, 60)[[\"Acceleration x (m/s^2)\", \"Acceleration y (m/s^2)\", \"Acceleration z (m/s^2)\"]].mean().to_numpy().reshape([3,1])\n",
    "\n",
    "# Select the first 300 seconds of data\n",
    "fz_up_300sec = remove_rows_by_time(accel_300sec_face_up, 20, 300)[[\"Acceleration x (m/s^2)\", \"Acceleration y (m/s^2)\", \"Acceleration z (m/s^2)\"]].mean().to_numpy().reshape([3,1])\n",
    "fz_down_300sec = remove_rows_by_time(accel_300sec_face_down, 0, 300)[[\"Acceleration x (m/s^2)\", \"Acceleration y (m/s^2)\", \"Acceleration z (m/s^2)\"]].mean().to_numpy().reshape([3,1])\n",
    "fx_up_300sec = remove_rows_by_time(accel_300sec_side_positive, 0, 300)[[\"Acceleration x (m/s^2)\", \"Acceleration y (m/s^2)\", \"Acceleration z (m/s^2)\"]].mean().to_numpy().reshape([3,1])\n",
    "fx_down_300sec = remove_rows_by_time(accel_300sec_side_negative, 0, 300)[[\"Acceleration x (m/s^2)\", \"Acceleration y (m/s^2)\", \"Acceleration z (m/s^2)\"]].mean().to_numpy().reshape([3,1])\n",
    "fy_up_300sec = remove_rows_by_time(accel_300sec_vertical_front, 0, 300)[[\"Acceleration x (m/s^2)\", \"Acceleration y (m/s^2)\", \"Acceleration z (m/s^2)\"]].mean().to_numpy().reshape([3,1])\n",
    "fy_down_300sec = remove_rows_by_time(accel_300sec_vertical_back, 0, 300)[[\"Acceleration x (m/s^2)\", \"Acceleration y (m/s^2)\", \"Acceleration z (m/s^2)\"]].mean().to_numpy().reshape([3,1])\n"
   ]
  },
  {
   "cell_type": "markdown",
   "metadata": {},
   "source": [
    "### Part 1 - Calculate bias and scale factor assuming no misalignment"
   ]
  },
  {
   "cell_type": "code",
   "execution_count": 3,
   "metadata": {},
   "outputs": [],
   "source": [
    "g_true = 9.81 # m/s^2\n",
    "\n",
    "# create sensors objects for the accelerometers for the different time periods (5, 60, 300 seconds)\n",
    "Elad_acc_300 = Accelerometer(name=\"Elad accelerometer 300 sec\")\n",
    "Elad_acc_300.set_calibration_data(\n",
    "    fx_up=fx_up_300sec, fx_down=fx_down_300sec, \n",
    "    fy_up=fy_up_300sec, fy_down=fy_down_300sec, \n",
    "    fz_up=fz_up_300sec, fz_down=fz_down_300sec, \n",
    "    g=g_true)\n",
    "\n",
    "Elad_acc_60 = Accelerometer(name=\"Elad accelerometer 60 sec\")\n",
    "Elad_acc_60.set_calibration_data(\n",
    "    fx_up=fx_up_60sec, fx_down=fx_down_60sec, \n",
    "    fy_up=fy_up_60sec, fy_down=fy_down_60sec, \n",
    "    fz_up=fz_up_60sec, fz_down=fz_down_60sec, \n",
    "    g=g_true)\n",
    "\n",
    "Elad_acc_5 = Accelerometer(name=\"Elad accelerometer 5 sec\")\n",
    "Elad_acc_5.set_calibration_data(\n",
    "    fx_up=fx_up_5sec, fx_down=fx_down_5sec, \n",
    "    fy_up=fy_up_5sec, fy_down=fy_down_5sec, \n",
    "    fz_up=fz_up_5sec, fz_down=fz_down_5sec, \n",
    "    g=g_true)\n",
    "\n"
   ]
  },
  {
   "cell_type": "code",
   "execution_count": 4,
   "metadata": {},
   "outputs": [],
   "source": [
    "bias = Elad_acc_300.compute_bias()\n",
    "bias = Elad_acc_60.compute_bias()\n",
    "bias = Elad_acc_5.compute_bias()\n",
    "scale_factor = Elad_acc_300.compute_scale_factor()\n",
    "scale_factor = Elad_acc_60.compute_scale_factor()\n",
    "scale_factor = Elad_acc_5.compute_scale_factor()"
   ]
  },
  {
   "cell_type": "code",
   "execution_count": null,
   "metadata": {},
   "outputs": [
    {
     "name": "stdout",
     "output_type": "stream",
     "text": [
      "Stats for Elad accelerometer 300 sec sensors:\n",
      "bias x: -0.1158063922523711\n",
      "bias y: -0.10503980806126378\n",
      "bias z: -0.05691902900106349\n",
      "scale factor x: -0.0023219266758937704\n",
      "scale factor y: -0.0005673196024088695\n",
      "scale factor z: 0.009421093341819006\n",
      "Stats for Elad accelerometer 60 sec sensors:\n",
      "bias x: [-0.1175]\n",
      "bias y: -0.10477003008148067\n",
      "bias z: -0.053748730834468184\n",
      "scale factor x: -0.0023302435136073386\n",
      "scale factor y: -0.0005620297959341294\n",
      "scale factor z: 0.008852610711612611\n",
      "Stats for Elad accelerometer 5 sec sensors:\n",
      "bias x: -0.1185162901071326\n",
      "bias y: -0.10473420297231861\n",
      "bias z: -0.0455009626335281\n",
      "scale factor x: -0.002393985581747024\n",
      "scale factor y: -0.0006820678524618954\n",
      "scale factor z: 0.007858681241641942\n"
     ]
    }
   ],
   "source": [
    "# Compute bias and scale factor for each accelerometer\n",
    "bias_300 = Elad_acc_300.compute_bias()\n",
    "scale_factor_300 = Elad_acc_300.compute_scale_factor()\n",
    "\n",
    "bias_60 = Elad_acc_60.compute_bias()\n",
    "scale_factor_60 = Elad_acc_60.compute_scale_factor()\n",
    "\n",
    "bias_5 = Elad_acc_5.compute_bias()\n",
    "scale_factor_5 = Elad_acc_5.compute_scale_factor()\n",
    "\n",
    "# Print stats for each accelerometer\n",
    "print(f\"Stats for {Elad_acc_300.get_sensor_name()} sensors:\")\n",
    "print(f\"bias x: {bias_300[0][0]}\\nbias y: {bias_300[1][0]}\\nbias z: {bias_300[2][0]}\")\n",
    "print(f\"scale factor x: {scale_factor_300[0,0]}\\nscale factor y: {scale_factor_300[1,1]}\\nscale factor z: {scale_factor_300[2,2]}\")\n",
    "\n",
    "print(f\"Stats for {Elad_acc_60.get_sensor_name()} sensors:\")\n",
    "print(f\"bias x: {bias_60[0][0]}\\nbias y: {bias_60[1][0]}\\nbias z: {bias_60[2][0]}\")\n",
    "print(f\"scale factor x: {scale_factor_60[0,0]}\\nscale factor y: {scale_factor_60[1,1]}\\nscale factor z: {scale_factor_60[2,2]}\")\n",
    "\n",
    "print(f\"Stats for {Elad_acc_5.get_sensor_name()} sensors:\")\n",
    "print(f\"bias x: {bias_5[0][0]}\\nbias y: {bias_5[1][0]}\\nbias z: {bias_5[2][0]}\")\n",
    "print(f\"scale factor x: {scale_factor_5[0,0]}\\nscale factor y: {scale_factor_5[1,1]}\\nscale factor z: {scale_factor_5[2,2]}\")\n"
   ]
  },
  {
   "cell_type": "markdown",
   "metadata": {},
   "source": [
    "### Part 2 - Calculate Scale Factor, Bias and Misalignment using LSM"
   ]
  },
  {
   "cell_type": "code",
   "execution_count": 15,
   "metadata": {},
   "outputs": [],
   "source": [
    "# Calculate the errors matrix M = [SF + M | b]\n",
    "M300 = Elad_acc_300.compute_M_errors_matrix()\n",
    "M60 = Elad_acc_60.compute_M_errors_matrix()\n",
    "M10 = Elad_acc_5.compute_M_errors_matrix()"
   ]
  },
  {
   "cell_type": "code",
   "execution_count": 16,
   "metadata": {},
   "outputs": [
    {
     "name": "stdout",
     "output_type": "stream",
     "text": [
      "Stats for Elad accelerometer 300 sec sensors:\n",
      "M Matrix:\n",
      "[[-0.0023 -0.0069 -0.0047 -0.1133]\n",
      " [ 0.0028 -0.0006  0.0055 -0.0857]\n",
      " [ 0.0139  0.0002  0.0094 -0.0909]]\n",
      "Stats for Elad accelerometer 60 sec sensors:\n",
      "M Matrix:\n",
      "[[-0.0023 -0.0069 -0.0047 -0.1137]\n",
      " [ 0.0028 -0.0006  0.0055 -0.0859]\n",
      " [ 0.0135  0.0004  0.0089 -0.0897]]\n",
      "Stats for Elad accelerometer 5 sec sensors:\n",
      "M Matrix:\n",
      "[[-0.0024 -0.0071 -0.0045 -0.1145]\n",
      " [ 0.0029 -0.0007  0.0058 -0.0862]\n",
      " [ 0.0134  0.0017  0.0079 -0.0763]]\n"
     ]
    }
   ],
   "source": [
    "print(f\"Stats for {Elad_acc_300.get_sensor_name()} sensors:\")\n",
    "print(f\"M Matrix:\\n{M300}\")\n",
    "\n",
    "print(f\"Stats for {Elad_acc_60.get_sensor_name()} sensors:\")\n",
    "print(f\"M Matrix:\\n{M60}\")\n",
    "\n",
    "print(f\"Stats for {Elad_acc_5.get_sensor_name()} sensors:\")\n",
    "print(f\"M Matrix:\\n{M10}\")"
   ]
  },
  {
   "cell_type": "code",
   "execution_count": null,
   "metadata": {},
   "outputs": [],
   "source": []
  },
  {
   "cell_type": "code",
   "execution_count": null,
   "metadata": {},
   "outputs": [],
   "source": []
  }
 ],
 "metadata": {
  "kernelspec": {
   "display_name": "env",
   "language": "python",
   "name": "python3"
  },
  "language_info": {
   "codemirror_mode": {
    "name": "ipython",
    "version": 3
   },
   "file_extension": ".py",
   "mimetype": "text/x-python",
   "name": "python",
   "nbconvert_exporter": "python",
   "pygments_lexer": "ipython3",
   "version": "3.12.1"
  }
 },
 "nbformat": 4,
 "nbformat_minor": 2
}
