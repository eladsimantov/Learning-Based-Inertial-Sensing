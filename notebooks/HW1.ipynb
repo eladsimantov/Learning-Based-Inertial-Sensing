{
 "cells": [
  {
   "cell_type": "markdown",
   "metadata": {},
   "source": [
    "# HW 1\n",
    "The homework assignments is on calibrating the Inertial sensor in our cell phones via the 6-position method. The first part will be to use recorded data to calibrate the accelerometer, the second part will be to calibrate the gyroscopes and the third part will be to analyze recorded data of \"shaking the smartphone\". Finally, we will compare different phones with one another and with our expectations from their specifications. \n"
   ]
  },
  {
   "cell_type": "code",
   "execution_count": null,
   "metadata": {},
   "outputs": [
    {
     "name": "stdout",
     "output_type": "stream",
     "text": [
      "2.0\n",
      "0.010000000000000052\n"
     ]
    }
   ],
   "source": [
    "import sys\n",
    "import os\n",
    "sys.path.append('../src')\n",
    "from ins import Accelerometer\n",
    "sys.path.append('../notebooks')\n",
    "import numpy as np\n",
    "import pandas as pd\n",
    "np.set_printoptions(precision=4, suppress=False)\n",
    "\n",
    "path_accel_300sec_face_up = os.path.join(\"..\", \"data\", \"Acceleration_300sec_FaceUp\")\n",
    "path_accel_300sec_face_down = os.path.join(\"..\", \"data\", \"Acceleration_300sec_FaceDown\")\n",
    "path_accel_300sec_side_right = os.path.join(\"..\", \"data\", \"Acceleration_300sec_SideRight\")\n",
    "path_accel_300sec_side_left = os.path.join(\"..\", \"data\", \"Acceleration_300sec_SideLeft\")\n",
    "path_accel_300sec_vertical_front = os.path.join(\"..\", \"data\", \"Acceleration_300sec_VerticalFront\")\n",
    "path_accel_300sec_vertical_back = os.path.join(\"..\", \"data\", \"Acceleration_300sec_VerticalBack\")\n",
    "\n",
    "raw_data = pd.read_csv(os.path.join(path_accel_300sec_face_up, \"Raw Data.csv\"))\n",
    "\n",
    "# f_measured = raw_data[[\"Acceleration x (m/s^2)\", \"Acceleration y (m/s^2)\", \"Acceleration z (m/s^2)\"]].mean().to_numpy()\n",
    "# print(np.reshape(f_measured, [3,1]))\n",
    "\n"
   ]
  },
  {
   "cell_type": "code",
   "execution_count": null,
   "metadata": {},
   "outputs": [],
   "source": [
    "# Usage of the Accelerometer class\n",
    "\n",
    "g_true = 9.81 # Assumed real gravity\n",
    "sfg = 1.01\n",
    "g = sfg*g_true\n",
    "a = Accelerometer(name='elad_phone')\n",
    "\n",
    "a.set_calibration_data(np.array([[-g+2], [0], [0]]), np.array([[g+2], [0], [0]]),\n",
    "                       np.array([[0], [-g], [0]]), np.array([[0], [g], [0]]),\n",
    "                       np.array([[0], [0], [-g]]), np.array([[0], [0], [g]]), \n",
    "                       g_true)\n",
    "M = a.get_M_errors_matrix()\n",
    "\n",
    "print(a.calc_bias(g+2, -g+2))\n",
    "print(a.calc_scale_factor(g, -g, g_true))\n",
    "print(M)\n"
   ]
  }
 ],
 "metadata": {
  "kernelspec": {
   "display_name": "env",
   "language": "python",
   "name": "python3"
  },
  "language_info": {
   "codemirror_mode": {
    "name": "ipython",
    "version": 3
   },
   "file_extension": ".py",
   "mimetype": "text/x-python",
   "name": "python",
   "nbconvert_exporter": "python",
   "pygments_lexer": "ipython3",
   "version": "3.12.1"
  }
 },
 "nbformat": 4,
 "nbformat_minor": 2
}
