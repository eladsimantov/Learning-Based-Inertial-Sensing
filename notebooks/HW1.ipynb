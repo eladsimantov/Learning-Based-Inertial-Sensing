{
 "cells": [
  {
   "cell_type": "markdown",
   "metadata": {},
   "source": [
    "# HW 1\n",
    "The homework assignments is on calibrating the Inertial sensor in our cell phones via the 6-position method. The first part will be to use recorded data to calibrate the accelerometer, the second part will be to calibrate the gyroscopes and the third part will be to analyze recorded data of \"shaking the smartphone\". Finally, we will compare different phones with one another and with our expectations from their specifications. \n"
   ]
  },
  {
   "cell_type": "code",
   "execution_count": null,
   "metadata": {},
   "outputs": [
    {
     "data": {
      "text/html": [
       "<div>\n",
       "<style scoped>\n",
       "    .dataframe tbody tr th:only-of-type {\n",
       "        vertical-align: middle;\n",
       "    }\n",
       "\n",
       "    .dataframe tbody tr th {\n",
       "        vertical-align: top;\n",
       "    }\n",
       "\n",
       "    .dataframe thead th {\n",
       "        text-align: right;\n",
       "    }\n",
       "</style>\n",
       "<table border=\"1\" class=\"dataframe\">\n",
       "  <thead>\n",
       "    <tr style=\"text-align: right;\">\n",
       "      <th></th>\n",
       "      <th>Time (s)</th>\n",
       "      <th>Acceleration x (m/s^2)</th>\n",
       "      <th>Acceleration y (m/s^2)</th>\n",
       "      <th>Acceleration z (m/s^2)</th>\n",
       "      <th>Absolute acceleration (m/s^2)</th>\n",
       "    </tr>\n",
       "  </thead>\n",
       "  <tbody>\n",
       "    <tr>\n",
       "      <th>129291</th>\n",
       "      <td>313.634826</td>\n",
       "      <td>-0.442373</td>\n",
       "      <td>9.672089</td>\n",
       "      <td>-0.461815</td>\n",
       "      <td>9.693207</td>\n",
       "    </tr>\n",
       "    <tr>\n",
       "      <th>129292</th>\n",
       "      <td>313.637252</td>\n",
       "      <td>-0.233898</td>\n",
       "      <td>9.705587</td>\n",
       "      <td>-0.514457</td>\n",
       "      <td>9.722027</td>\n",
       "    </tr>\n",
       "    <tr>\n",
       "      <th>129293</th>\n",
       "      <td>313.639678</td>\n",
       "      <td>-0.104686</td>\n",
       "      <td>9.739087</td>\n",
       "      <td>-0.531207</td>\n",
       "      <td>9.754125</td>\n",
       "    </tr>\n",
       "    <tr>\n",
       "      <th>129294</th>\n",
       "      <td>313.642104</td>\n",
       "      <td>-0.102293</td>\n",
       "      <td>9.731909</td>\n",
       "      <td>-0.500100</td>\n",
       "      <td>9.745287</td>\n",
       "    </tr>\n",
       "    <tr>\n",
       "      <th>129295</th>\n",
       "      <td>313.644530</td>\n",
       "      <td>-0.181256</td>\n",
       "      <td>9.727123</td>\n",
       "      <td>-0.423530</td>\n",
       "      <td>9.738026</td>\n",
       "    </tr>\n",
       "  </tbody>\n",
       "</table>\n",
       "</div>"
      ],
      "text/plain": [
       "          Time (s)  Acceleration x (m/s^2)  Acceleration y (m/s^2)  \\\n",
       "129291  313.634826               -0.442373                9.672089   \n",
       "129292  313.637252               -0.233898                9.705587   \n",
       "129293  313.639678               -0.104686                9.739087   \n",
       "129294  313.642104               -0.102293                9.731909   \n",
       "129295  313.644530               -0.181256                9.727123   \n",
       "\n",
       "        Acceleration z (m/s^2)  Absolute acceleration (m/s^2)  \n",
       "129291               -0.461815                       9.693207  \n",
       "129292               -0.514457                       9.722027  \n",
       "129293               -0.531207                       9.754125  \n",
       "129294               -0.500100                       9.745287  \n",
       "129295               -0.423530                       9.738026  "
      ]
     },
     "execution_count": 1,
     "metadata": {},
     "output_type": "execute_result"
    }
   ],
   "source": [
    "import sys\n",
    "import os\n",
    "sys.path.append('../src')\n",
    "from ins import Accelerometer\n",
    "sys.path.append('../notebooks')\n",
    "import numpy as np\n",
    "import pandas as pd\n",
    "np.set_printoptions(precision=4, suppress=False)\n",
    "\n",
    "path_accel_300sec_face_up = os.path.join(\"..\", \"data\", \"Acceleration_300sec_FaceUp\")\n",
    "path_accel_300sec_face_down = os.path.join(\"..\", \"data\", \"Acceleration_300sec_FaceDown\")\n",
    "path_accel_300sec_side_positive = os.path.join(\"..\", \"data\", \"Acceleration_300sec_SidePositive\")\n",
    "path_accel_300sec_side_negative = os.path.join(\"..\", \"data\", \"Acceleration_300sec_SideNegative\")\n",
    "path_accel_300sec_vertical_front = os.path.join(\"..\", \"data\", \"Acceleration_300sec_VerticalFront\")\n",
    "path_accel_300sec_vertical_back = os.path.join(\"..\", \"data\", \"Acceleration_300sec_VerticalBack\")\n",
    "\n",
    "accel_300sec_face_up = pd.read_csv(os.path.join(path_accel_300sec_face_up, \"Raw Data.csv\")) # This had a delimiter of \",\"\n",
    "accel_300sec_face_down = pd.read_csv(os.path.join(path_accel_300sec_face_down, \"Raw Data.csv\"), sep=\"\\t\", engine=\"python\")\n",
    "accel_300sec_side_positive = pd.read_csv(os.path.join(path_accel_300sec_side_positive, \"Raw Data.csv\"), sep=\"\\t\", engine=\"python\")\n",
    "accel_300sec_side_negative = pd.read_csv(os.path.join(path_accel_300sec_side_negative, \"Raw Data.csv\"), sep=\"\\t\", engine=\"python\")\n",
    "accel_300sec_vertical_front = pd.read_csv(os.path.join(path_accel_300sec_vertical_front, \"Raw Data.csv\"), sep=\"\\t\", engine=\"python\")\n",
    "accel_300sec_vertical_back = pd.read_csv(os.path.join(path_accel_300sec_vertical_back, \"Raw Data.csv\"), sep=\"\\t\", engine=\"python\")\n",
    "\n",
    "\n",
    " \n",
    "\n"
   ]
  },
  {
   "cell_type": "code",
   "execution_count": null,
   "metadata": {},
   "outputs": [],
   "source": [
    "# Usage of the Accelerometer class\n",
    "\n",
    "g_true = 9.81 # Assumed real gravity\n",
    "sfg = 1.01\n",
    "g = sfg*g_true\n",
    "a = Accelerometer(name='elad_phone')\n",
    "\n",
    "a.set_calibration_data(np.array([[-g+2], [0], [0]]), np.array([[g+2], [0], [0]]),\n",
    "                       np.array([[0], [-g], [0]]), np.array([[0], [g], [0]]),\n",
    "                       np.array([[0], [0], [-g]]), np.array([[0], [0], [g]]), \n",
    "                       g_true)\n",
    "# M = a.get_M_errors_matrix()\n",
    "M = a.calc_M_matrix(np.array([[-g+2, g+2, 0, 0, 0, 0], [0, 0, -g+2, g+2, 0, 0], [0, 0, 0, 0, -g-2, g-2]]), g_true)\n",
    "\n",
    "print(a.calc_bias(g+2, -g+2))\n",
    "print(a.calc_scale_factor(g, -g, g_true))\n",
    "print(M)\n"
   ]
  },
  {
   "cell_type": "code",
   "execution_count": null,
   "metadata": {},
   "outputs": [],
   "source": [
    "print(g_true*g_true*2)"
   ]
  },
  {
   "cell_type": "code",
   "execution_count": null,
   "metadata": {},
   "outputs": [],
   "source": []
  }
 ],
 "metadata": {
  "kernelspec": {
   "display_name": "env",
   "language": "python",
   "name": "python3"
  },
  "language_info": {
   "codemirror_mode": {
    "name": "ipython",
    "version": 3
   },
   "file_extension": ".py",
   "mimetype": "text/x-python",
   "name": "python",
   "nbconvert_exporter": "python",
   "pygments_lexer": "ipython3",
   "version": "3.12.1"
  }
 },
 "nbformat": 4,
 "nbformat_minor": 2
}
