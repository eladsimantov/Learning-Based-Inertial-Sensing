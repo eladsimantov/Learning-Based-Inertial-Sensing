{
 "cells": [
  {
   "cell_type": "markdown",
   "metadata": {},
   "source": [
    "# HW 1\n",
    "The homework assignments is on calibrating the Inertial sensor in our cell phones via the 6-position method. The first part will be to use recorded data to calibrate the accelerometer, the second part will be to calibrate the gyroscopes and the third part will be to analyze recorded data of \"shaking the smartphone\". Finally, we will compare different phones with one another and with our expectations from their specifications. \n"
   ]
  },
  {
   "cell_type": "code",
   "execution_count": null,
   "metadata": {},
   "outputs": [],
   "source": [
    "import sys\n",
    "import os\n",
    "import numpy as np\n",
    "import pandas as pd\n",
    "\n",
    "sys.path.append('../src')\n",
    "from ins import Accelerometer\n",
    "from ins import Gyroscope\n",
    "sys.path.append('../notebooks')\n",
    "np.set_printoptions(precision=4, suppress=True)\n",
    "\n",
    "path_accel_300sec_face_up = os.path.join(\"..\", \"data\", \"Acceleration_300sec_FaceUp\")\n",
    "path_accel_300sec_face_down = os.path.join(\"..\", \"data\", \"Acceleration_300sec_FaceDown\")\n",
    "path_accel_300sec_side_positive = os.path.join(\"..\", \"data\", \"Acceleration_300sec_SidePositive\")\n",
    "path_accel_300sec_side_negative = os.path.join(\"..\", \"data\", \"Acceleration_300sec_SideNegative\")\n",
    "path_accel_300sec_vertical_front = os.path.join(\"..\", \"data\", \"Acceleration_300sec_VerticalFront\")\n",
    "path_accel_300sec_vertical_back = os.path.join(\"..\", \"data\", \"Acceleration_300sec_VerticalBack\")\n",
    "\n",
    "accel_300sec_face_up = pd.read_csv(os.path.join(path_accel_300sec_face_up, \"Raw Data.csv\")) # This had a delimiter of \",\"\n",
    "accel_300sec_face_down = pd.read_csv(os.path.join(path_accel_300sec_face_down, \"Raw Data.csv\"), sep=\"\\t\", engine=\"python\")\n",
    "accel_300sec_side_positive = pd.read_csv(os.path.join(path_accel_300sec_side_positive, \"Raw Data.csv\"), sep=\"\\t\", engine=\"python\")\n",
    "accel_300sec_side_negative = pd.read_csv(os.path.join(path_accel_300sec_side_negative, \"Raw Data.csv\"), sep=\"\\t\", engine=\"python\")\n",
    "accel_300sec_vertical_front = pd.read_csv(os.path.join(path_accel_300sec_vertical_front, \"Raw Data.csv\"), sep=\"\\t\", engine=\"python\")\n",
    "accel_300sec_vertical_back = pd.read_csv(os.path.join(path_accel_300sec_vertical_back, \"Raw Data.csv\"), sep=\"\\t\", engine=\"python\")"
   ]
  },
  {
   "cell_type": "code",
   "execution_count": 2,
   "metadata": {},
   "outputs": [],
   "source": [
    "# get mean specific forces for each axis\n",
    "fz_up = accel_300sec_face_up[[\"Acceleration x (m/s^2)\", \"Acceleration y (m/s^2)\", \"Acceleration z (m/s^2)\"]].mean().to_numpy().reshape([3,1])\n",
    "fz_down = accel_300sec_face_down[[\"Acceleration x (m/s^2)\", \"Acceleration y (m/s^2)\", \"Acceleration z (m/s^2)\"]].mean().to_numpy().reshape([3,1])\n",
    "fx_up = accel_300sec_side_positive[[\"Acceleration x (m/s^2)\", \"Acceleration y (m/s^2)\", \"Acceleration z (m/s^2)\"]].mean().to_numpy().reshape([3,1])\n",
    "fx_down = accel_300sec_side_negative[[\"Acceleration x (m/s^2)\", \"Acceleration y (m/s^2)\", \"Acceleration z (m/s^2)\"]].mean().to_numpy().reshape([3,1])\n",
    "fy_up = accel_300sec_vertical_front[[\"Acceleration x (m/s^2)\", \"Acceleration y (m/s^2)\", \"Acceleration z (m/s^2)\"]].mean().to_numpy().reshape([3,1])\n",
    "fy_down = accel_300sec_vertical_back[[\"Acceleration x (m/s^2)\", \"Acceleration y (m/s^2)\", \"Acceleration z (m/s^2)\"]].mean().to_numpy().reshape([3,1])\n"
   ]
  },
  {
   "cell_type": "markdown",
   "metadata": {},
   "source": [
    "### Part 1 - Calculate bias and scale factor assuming no misalignment"
   ]
  },
  {
   "cell_type": "code",
   "execution_count": 3,
   "metadata": {},
   "outputs": [],
   "source": [
    "g_true = 9.81 # m/s^2\n",
    "a = Accelerometer(name=\"Elad's cell phone\")\n",
    "a.set_calibration_data(\n",
    "    fx_up=fx_up, fx_down=fx_down, \n",
    "    fy_up=fy_up, fy_down=fy_down, \n",
    "    fz_up=fz_up, fz_down=fz_down, \n",
    "    g=g_true)\n"
   ]
  },
  {
   "cell_type": "code",
   "execution_count": 4,
   "metadata": {},
   "outputs": [],
   "source": [
    "bias = a.get_bias()\n",
    "scale_factor = a.get_scale_factor()"
   ]
  },
  {
   "cell_type": "code",
   "execution_count": 5,
   "metadata": {},
   "outputs": [
    {
     "name": "stdout",
     "output_type": "stream",
     "text": [
      "Stats for Elad's cell phone sensors:\n",
      "bias x: -0.115777164232437\n",
      "bias y: -0.10505097597297208\n",
      "bias z: -0.05714166333679582\n",
      "scale factor x: -0.0023240669520969504\n",
      "scale factor y: -0.0005669978446983048\n",
      "scale factor z: 0.009417891979172198\n"
     ]
    }
   ],
   "source": [
    "print(f\"Stats for {a.get_sensor_name()} sensors:\")\n",
    "print(f\"bias x: {bias[0][0]}\\nbias y: {bias[1][0]}\\nbias z: {bias[2][0]}\")\n",
    "print(f\"scale factor x: {scale_factor[0,0]}\\nscale factor y: {scale_factor[1,1]}\\nscale factor z: {scale_factor[2,2]}\")"
   ]
  },
  {
   "cell_type": "markdown",
   "metadata": {},
   "source": [
    "### Part 2 - Calculate Scale Factor, Bias and Misalignment using LSM"
   ]
  },
  {
   "cell_type": "code",
   "execution_count": 6,
   "metadata": {},
   "outputs": [],
   "source": [
    "# Calculate the errors matrix M = [SF + M | b]\n",
    "M = a.get_M_errors_matrix()"
   ]
  },
  {
   "cell_type": "code",
   "execution_count": 7,
   "metadata": {},
   "outputs": [
    {
     "name": "stdout",
     "output_type": "stream",
     "text": [
      "Stats for Elad's cell phone sensors:\n",
      "M Matrix:\n",
      "[[-0.0023 -0.0069 -0.0047 -0.1132]\n",
      " [ 0.0028 -0.0006  0.0055 -0.0857]\n",
      " [ 0.0139  0.0002  0.0094 -0.091 ]]\n"
     ]
    }
   ],
   "source": [
    "print(f\"Stats for {a.get_sensor_name()} sensors:\")\n",
    "print(f\"M Matrix:\\n{M}\")"
   ]
  },
  {
   "cell_type": "code",
   "execution_count": null,
   "metadata": {},
   "outputs": [],
   "source": []
  },
  {
   "cell_type": "code",
   "execution_count": null,
   "metadata": {},
   "outputs": [],
   "source": []
  }
 ],
 "metadata": {
  "kernelspec": {
   "display_name": "env",
   "language": "python",
   "name": "python3"
  },
  "language_info": {
   "codemirror_mode": {
    "name": "ipython",
    "version": 3
   },
   "file_extension": ".py",
   "mimetype": "text/x-python",
   "name": "python",
   "nbconvert_exporter": "python",
   "pygments_lexer": "ipython3",
   "version": "3.12.1"
  }
 },
 "nbformat": 4,
 "nbformat_minor": 2
}
