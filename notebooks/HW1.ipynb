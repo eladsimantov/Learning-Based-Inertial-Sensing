{
 "cells": [
  {
   "cell_type": "markdown",
   "metadata": {},
   "source": [
    "# HW 1\n",
    "The homework assignments is on calibrating the Inertial sensor in our cell phones via the 6-position method. The first part will be to use recorded data to calibrate the accelerometer, the second part will be to calibrate the gyroscopes and the third part will be to analyze recorded data of \"shaking the smartphone\". Finally, we will compare different phones with one another and with our expectations from their specifications. \n"
   ]
  },
  {
   "cell_type": "code",
   "execution_count": null,
   "metadata": {},
   "outputs": [
    {
     "name": "stdout",
     "output_type": "stream",
     "text": [
      "[[-1.61709801e-01]\n",
      " [-4.51410043e-03]\n",
      " [ 9.84524786e+00]]\n"
     ]
    }
   ],
   "source": [
    "import sys\n",
    "import os\n",
    "sys.path.append('../src')\n",
    "from ins import Accelerometer\n",
    "sys.path.append('../notebooks')\n",
    "import numpy as np\n",
    "import pandas as pd\n",
    "\n",
    "path_accel_300sec_face_up = os.path.join(\"..\", \"data\", \"Acceleration_300sec_FaceUp\")\n",
    "path_accel_300sec_face_down = os.path.join(\"..\", \"data\", \"Acceleration_300sec_FaceDown\")\n",
    "path_accel_300sec_side_right = os.path.join(\"..\", \"data\", \"Acceleration_300sec_SideRight\")\n",
    "path_accel_300sec_side_left = os.path.join(\"..\", \"data\", \"Acceleration_300sec_SideLeft\")\n",
    "path_accel_300sec_vertical_front = os.path.join(\"..\", \"data\", \"Acceleration_300sec_VerticalFront\")\n",
    "path_accel_300sec_vertical_back = os.path.join(\"..\", \"data\", \"Acceleration_300sec_VerticalBack\")\n",
    "\n",
    "raw_data = pd.read_csv(os.path.join(path_accel_300sec_face_up, \"Raw Data.csv\"))\n",
    "\n",
    "# accel_300sec_face_up = Accelerometer()\n",
    "\n",
    "f_measured = raw_data[[\"Acceleration x (m/s^2)\", \"Acceleration y (m/s^2)\", \"Acceleration z (m/s^2)\"]].mean().to_numpy()\n",
    "print(np.reshape(f_measured, [3,1]))\n",
    "# np.shape(f_measured)\n",
    "\n",
    "fx_up = f_measured\n",
    "# fx_down = \n",
    "# fy_up = \n",
    "# fy_down = \n",
    "# fz_up = \n",
    "# fz_down =        \n",
    "a = Accelerometer('elad')\n",
    "a.set_calibration_data()\n",
    "\n",
    "\n",
    "# g = 9.81 # Assumed gravity\n",
    "# G_mat = np.array([[-g, g, 0, 0, 0, 0], [0, 0, -g, g, 0, 0], [0, 0, 0, 0, -g, g]])\n",
    "# G_mat_ext = np.array([[-g, g, 0, 0, 0, 0], [0, 0, -g, g, 0, 0], [0, 0, 0, 0, -g, g], [1,1,1,1,1,1]])\n"
   ]
  },
  {
   "cell_type": "code",
   "execution_count": null,
   "metadata": {},
   "outputs": [],
   "source": [
    "# def calibrate_accelerometer():\n",
    "#         g = 9.81 # Assumed gravity\n",
    "#         calibration_data = self.get_calibration_data() \n",
    "#         fx_up = calibration_data['fx_up']['raw_data']\n",
    "#         fx_down = calibration_data['fx_down']['raw_data']\n",
    "#         fy_up = calibration_data['fy_up']['raw_data']\n",
    "#         fy_down = calibration_data['fy_down']['raw_data']\n",
    "#         fz_up = calibration_data['fz_up']['raw_data']\n",
    "#         fz_down = calibration_data['fz_down']['raw_data']        \n",
    "        \n",
    "#         b_ax = self.calc_bias()\n",
    "\n",
    "#         (fx_up[\"Acceleration x (m/s^2)\"].mean() + fx_down[\"Acceleration x (m/s^2)\"].mean())/2\n",
    "#         b_ay = (fy_up[\"Acceleration y (m/s^2)\"].mean() + fy_down[\"Acceleration y (m/s^2)\"].mean())/2\n",
    "#         b_az = (fz_up[\"Acceleration z (m/s^2)\"].mean() + fz_down[\"Acceleration z (m/s^2)\"].mean())/2\n",
    "        \n",
    "#         sax = (fx_up[\"Acceleration x (m/s^2)\"].mean() - fx_down[\"Acceleration x (m/s^2)\"].mean() - 2*g) / (2*g)\n",
    "#         say = (fy_up[\"Acceleration y (m/s^2)\"].mean() - fy_down[\"Acceleration y (m/s^2)\"].mean() - 2*g) / (2*g)\n",
    "#         saz = (fz_up[\"Acceleration z (m/s^2)\"].mean() - fz_down[\"Acceleration z (m/s^2)\"].mean() - 2*g) / (2*g)\n",
    "        \n",
    "#         bias = np.diag([b_ax, b_ay, b_az])\n",
    "#         scale_factor = np.diag([sax, say, saz])\n",
    "#         return bias, scale_factor"
   ]
  }
 ],
 "metadata": {
  "kernelspec": {
   "display_name": "env",
   "language": "python",
   "name": "python3"
  },
  "language_info": {
   "codemirror_mode": {
    "name": "ipython",
    "version": 3
   },
   "file_extension": ".py",
   "mimetype": "text/x-python",
   "name": "python",
   "nbconvert_exporter": "python",
   "pygments_lexer": "ipython3",
   "version": "3.12.1"
  }
 },
 "nbformat": 4,
 "nbformat_minor": 2
}
